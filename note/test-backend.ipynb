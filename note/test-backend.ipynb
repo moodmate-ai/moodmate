{
 "cells": [
  {
   "cell_type": "markdown",
   "metadata": {},
   "source": [
    "# Test code for checking backend api\n",
    "\n",
    "1. create user"
   ]
  },
  {
   "cell_type": "code",
   "execution_count": 1,
   "metadata": {},
   "outputs": [],
   "source": [
    "import requests\n",
    "import json\n"
   ]
  },
  {
   "cell_type": "markdown",
   "metadata": {},
   "source": [
    "## 1. Create user"
   ]
  },
  {
   "cell_type": "code",
   "execution_count": 2,
   "metadata": {},
   "outputs": [],
   "source": [
    "res = requests.post(\n",
    "    \"http://localhost:8080/api/v1/user/create\",\n",
    "    json={\n",
    "        \"email\": \"test@test.com\",\n",
    "        \"username\": \"test\",\n",
    "        \"role\": \"USER\",\n",
    "        \"name\": \"챈챈\"\n",
    "    }\n",
    ")"
   ]
  },
  {
   "cell_type": "code",
   "execution_count": 3,
   "metadata": {},
   "outputs": [
    {
     "name": "stdout",
     "output_type": "stream",
     "text": [
      "{\n",
      "    \"userId\": 1,\n",
      "    \"email\": \"test@test.com\",\n",
      "    \"username\": \"test\",\n",
      "    \"role\": \"USER\",\n",
      "    \"name\": \"챈챈\",\n",
      "    \"createdAt\": \"2025-05-28T20:48:24.607181\",\n",
      "    \"modifiedAt\": null\n",
      "}\n"
     ]
    }
   ],
   "source": [
    "print(\n",
    "    json.dumps(\n",
    "        json.loads(\n",
    "            res.content.decode('utf-8')\n",
    "        ),\n",
    "        indent=4, \n",
    "        ensure_ascii=False\n",
    "    ),\n",
    ")\n"
   ]
  },
  {
   "cell_type": "markdown",
   "metadata": {},
   "source": [
    "## 2. Diary"
   ]
  },
  {
   "cell_type": "code",
   "execution_count": 3,
   "metadata": {},
   "outputs": [],
   "source": [
    "res = requests.post(\n",
    "    \"http://localhost:8080/api/v1/diary/create\",\n",
    "    json={\n",
    "        \"userId\": 1,\n",
    "        \"body\": \"2학년 때 참여한 대회인데, 지금 써 본다. 역사 소논문 수행평가에 대해서 처음 들은 첫 시간부터 걱정을 많이 했는데 무난하게 마무리한 것 같다. 주제를 뭘로 잡아야 할까 고민을 했는데 그동안 읽었던 책들 중에 기억에 유독 강하게 남는 것이 있어서 쉽게 정할 수 있었다. 그 책은 블로그에도 감상문을 올린 다. 이 책이 다루고 있는 주제들 중에서도 수렴청정이라는 주제를 주제로 했다. 왕실 여성의 삶에 대해 문학적 측면에서 다루는 것도 관심이 갔지만 좀더 깔끔한 주제를 골랐다. 결과적으로 보면 잘된 결정이었다. 계획서는 어떻게 해야 될지 아는 게 없어서 그냥 편한 대로 했는데 다행히도 선생님이 좋게 봐주셨다. 기분이 좋기도 했지만 본 논문을 잘 써서 기대에 부응해야겠다는 부담도 분명히 있었다. 본 논문은 쓰는 데 저엉말 오래 걸렸다.... 우리반에서 내가 제일 오래 걸린 것 같다. 거의 2주 동안 하루 한두 시간 혹은 그 이상씩 노트북을 잡고 있었다. 왜 그렇게 오래 걸렸는지는 모르겠지만 아마도 글을 쓰기 전에 다양한 출처로부터 정보를 얻으려고 했기 때문인 듯하다. 단순히 자료를 배열하는 것으로도 충분하다고 하셨지만 그런 것 말고 다양한 사료들이 함의하는 관점과, 내 관점으로부터 그것들을 절충한 소논문을 쓰고 싶기도 했고. 그러다 보니까 불필요한 내용까지도 재밌다고 읽고 있다가 시간이 훅 가버린 것 같다. 그렇게 천천히 논문을 써서 제출하고, 은상이라는 좋은 결과를 얻을 수 있었다. 다만 미흡한 점은 정신없이 쓰다가 각주를 두세 개 빼먹는 실수를 저지른 점이다... 그래서 내용 외적인 면에서 점수가 깎인 것 같아 많이 아쉬웠다. 스스로 처음부터 끝까지 한 편의 논문을 완성한 경험은 고등학교 내내 유일한 것이다. 쓰면서 배운 것도 많고, 즐겁게 참여했다. 그리고 좋은 결과까지 얻었으니 기쁜 일이다. 역사가 재미있는 이유는 한 편의 사료에도 다양한 관점의 시각이 개입되어 있어서이다. 사람의 의지가 저술에 반영된다는 것은 현상의 정확성을 떨어뜨릴 수도 있지만 세상을 풍요롭게 만드는 원동력이기도 하다.\"\n",
    "    }\n",
    ")"
   ]
  },
  {
   "cell_type": "code",
   "execution_count": 4,
   "metadata": {},
   "outputs": [
    {
     "name": "stdout",
     "output_type": "stream",
     "text": [
      "{\n",
      "    \"diaryId\": 1,\n",
      "    \"body\": \"2학년 때 참여한 대회인데, 지금 써 본다. 역사 소논문 수행평가에 대해서 처음 들은 첫 시간부터 걱정을 많이 했는데 무난하게 마무리한 것 같다. 주제를 뭘로 잡아야 할까 고민을 했는데 그동안 읽었던 책들 중에 기억에 유독 강하게 남는 것이 있어서 쉽게 정할 수 있었다. 그 책은 블로그에도 감상문을 올린 다. 이 책이 다루고 있는 주제들 중에서도 수렴청정이라는 주제를 주제로 했다. 왕실 여성의 삶에 대해 문학적 측면에서 다루는 것도 관심이 갔지만 좀더 깔끔한 주제를 골랐다. 결과적으로 보면 잘된 결정이었다. 계획서는 어떻게 해야 될지 아는 게 없어서 그냥 편한 대로 했는데 다행히도 선생님이 좋게 봐주셨다. 기분이 좋기도 했지만 본 논문을 잘 써서 기대에 부응해야겠다는 부담도 분명히 있었다. 본 논문은 쓰는 데 저엉말 오래 걸렸다.... 우리반에서 내가 제일 오래 걸린 것 같다. 거의 2주 동안 하루 한두 시간 혹은 그 이상씩 노트북을 잡고 있었다. 왜 그렇게 오래 걸렸는지는 모르겠지만 아마도 글을 쓰기 전에 다양한 출처로부터 정보를 얻으려고 했기 때문인 듯하다. 단순히 자료를 배열하는 것으로도 충분하다고 하셨지만 그런 것 말고 다양한 사료들이 함의하는 관점과, 내 관점으로부터 그것들을 절충한 소논문을 쓰고 싶기도 했고. 그러다 보니까 불필요한 내용까지도 재밌다고 읽고 있다가 시간이 훅 가버린 것 같다. 그렇게 천천히 논문을 써서 제출하고, 은상이라는 좋은 결과를 얻을 수 있었다. 다만 미흡한 점은 정신없이 쓰다가 각주를 두세 개 빼먹는 실수를 저지른 점이다... 그래서 내용 외적인 면에서 점수가 깎인 것 같아 많이 아쉬웠다. 스스로 처음부터 끝까지 한 편의 논문을 완성한 경험은 고등학교 내내 유일한 것이다. 쓰면서 배운 것도 많고, 즐겁게 참여했다. 그리고 좋은 결과까지 얻었으니 기쁜 일이다. 역사가 재미있는 이유는 한 편의 사료에도 다양한 관점의 시각이 개입되어 있어서이다. 사람의 의지가 저술에 반영된다는 것은 현상의 정확성을 떨어뜨릴 수도 있지만 세상을 풍요롭게 만드는 원동력이기도 하다.\",\n",
      "    \"userId\": 1,\n",
      "    \"emotion\": \"JOY\",\n",
      "    \"aiResponse\": \"{\\n  \\\"response\\\": \\\"소논문 대회에서 은상을 받으신 것을 진심으로 축하드립니다! 2주 동안 공들여 논문을 쓰신 과정이 정말 인상적이네요. 특히 다양한 사료를 꼼꼼히 살피고 자신만의 관점을 녹여내려고 노력하신 점이 돋보입니다. 각주를 빼먹은 실수는 아쉽지만, 처음부터 끝까지 논문을 완성한 경험 자체가 큰 의미가 있을 거예요. 역사에 대한 깊은 애정과 통찰력도 느껴집니다. 앞으로도 역사 분야에서 더욱 발전하시기를 응원하겠습니다!\\\"\\n}\",\n",
      "    \"createdAt\": \"2025-05-28T20:50:31.590722\",\n",
      "    \"modifiedAt\": null\n",
      "}\n"
     ]
    }
   ],
   "source": [
    "print(\n",
    "    json.dumps(\n",
    "        json.loads(\n",
    "            res.content.decode('utf-8')\n",
    "        ),\n",
    "        indent=4, \n",
    "        ensure_ascii=False\n",
    "    ),\n",
    ")"
   ]
  },
  {
   "cell_type": "markdown",
   "metadata": {},
   "source": [
    "## 3. Chat"
   ]
  },
  {
   "cell_type": "code",
   "execution_count": 5,
   "metadata": {},
   "outputs": [],
   "source": [
    "res = requests.post(\n",
    "    \"http://localhost:8080/api/chat\",\n",
    "    json={\n",
    "        \"userId\": 1,\n",
    "        \"diaryId\": 1,\n",
    "        \"messages\": [\n",
    "            {\n",
    "                \"role\": \"user\",\n",
    "                \"content\": \"안녕하세요\"\n",
    "            }\n",
    "        ]\n",
    "    }\n",
    ")"
   ]
  },
  {
   "cell_type": "code",
   "execution_count": 6,
   "metadata": {},
   "outputs": [
    {
     "name": "stdout",
     "output_type": "stream",
     "text": [
      "{\n",
      "    \"userMessage\": \"안녕하세요\",\n",
      "    \"botReply\": \"안녕하세요! 오늘 하루는 어떠셨나요? 어떤 이야기를 나누고 싶으신가요? 😊\\n\"\n",
      "}\n"
     ]
    }
   ],
   "source": [
    "print(\n",
    "    json.dumps(\n",
    "        json.loads(\n",
    "            res.content.decode('utf-8')\n",
    "        ),\n",
    "        indent=4, \n",
    "        ensure_ascii=False\n",
    "    ),\n",
    ")"
   ]
  }
 ],
 "metadata": {
  "kernelspec": {
   "display_name": "common",
   "language": "python",
   "name": "python3"
  },
  "language_info": {
   "codemirror_mode": {
    "name": "ipython",
    "version": 3
   },
   "file_extension": ".py",
   "mimetype": "text/x-python",
   "name": "python",
   "nbconvert_exporter": "python",
   "pygments_lexer": "ipython3",
   "version": "3.13.1"
  }
 },
 "nbformat": 4,
 "nbformat_minor": 2
}
