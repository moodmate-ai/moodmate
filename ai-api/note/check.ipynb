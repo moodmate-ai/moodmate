{
 "cells": [
  {
   "cell_type": "code",
   "execution_count": 2,
   "metadata": {},
   "outputs": [],
   "source": [
    "import requests"
   ]
  },
  {
   "cell_type": "code",
   "execution_count": 7,
   "metadata": {},
   "outputs": [],
   "source": [
    "res = requests.post(\n",
    "    \"http://localhost:8080/api/chat\",\n",
    "    json={\n",
    "        \"user_id\": \"1\",\n",
    "        \"diary_id\": \"1\",\n",
    "        \"messages\": [{\"role\": \"user\", \"content\": \"안녕하세요\"}]\n",
    "    }\n",
    ")"
   ]
  },
  {
   "cell_type": "code",
   "execution_count": 9,
   "metadata": {},
   "outputs": [
    {
     "data": {
      "text/plain": [
       "'{\"userMessage\":\"안녕하세요\",\"botReply\":\"{\\\\\"content\\\\\":\\\\\"안녕하세요! 무엇을 도와드릴까요? 궁금한 점이나 필요한 정보가 있으시면 언제든지 말씀해주세요. \\\\uD83D\\\\uDE0A\\\\\\\\n\\\\\"}\"}'"
      ]
     },
     "execution_count": 9,
     "metadata": {},
     "output_type": "execute_result"
    }
   ],
   "source": [
    "res.content.decode('utf-8')"
   ]
  }
 ],
 "metadata": {
  "kernelspec": {
   "display_name": "common",
   "language": "python",
   "name": "python3"
  },
  "language_info": {
   "codemirror_mode": {
    "name": "ipython",
    "version": 3
   },
   "file_extension": ".py",
   "mimetype": "text/x-python",
   "name": "python",
   "nbconvert_exporter": "python",
   "pygments_lexer": "ipython3",
   "version": "3.11.4"
  }
 },
 "nbformat": 4,
 "nbformat_minor": 2
}
